{
 "cells": [
  {
   "cell_type": "code",
   "execution_count": 5,
   "metadata": {
    "collapsed": false
   },
   "outputs": [
    {
     "ename": "ValueError",
     "evalue": "Attempted relative import in non-package",
     "output_type": "error",
     "traceback": [
      "\u001b[1;31m---------------------------------------------------------------------------\u001b[0m",
      "\u001b[1;31mValueError\u001b[0m                                Traceback (most recent call last)",
      "\u001b[1;32m<ipython-input-5-5404befddf6b>\u001b[0m in \u001b[0;36m<module>\u001b[1;34m()\u001b[0m\n\u001b[0;32m      4\u001b[0m \u001b[1;32mfrom\u001b[0m \u001b[0mnumpy\u001b[0m \u001b[1;32mimport\u001b[0m \u001b[0mceil\u001b[0m\u001b[1;33m,\u001b[0m \u001b[0mlog2\u001b[0m\u001b[1;33m,\u001b[0m \u001b[0mlinspace\u001b[0m\u001b[1;33m,\u001b[0m \u001b[0msearchsorted\u001b[0m\u001b[1;33m\u001b[0m\u001b[0m\n\u001b[0;32m      5\u001b[0m \u001b[1;32mimport\u001b[0m \u001b[0mmatplotlib\u001b[0m\u001b[1;33m.\u001b[0m\u001b[0mpyplot\u001b[0m \u001b[1;32mas\u001b[0m \u001b[0mplt\u001b[0m\u001b[1;33m\u001b[0m\u001b[0m\n\u001b[1;32m----> 6\u001b[1;33m \u001b[1;32mfrom\u001b[0m \u001b[1;33m.\u001b[0m\u001b[0msrc\u001b[0m\u001b[1;33m.\u001b[0m\u001b[0msan_thresholds\u001b[0m \u001b[1;32mimport\u001b[0m \u001b[0msanitize\u001b[0m\u001b[1;33m\u001b[0m\u001b[0m\n\u001b[0m\u001b[0;32m      7\u001b[0m \u001b[1;32mfrom\u001b[0m \u001b[0mstatsmodels\u001b[0m\u001b[1;33m.\u001b[0m\u001b[0mdistributions\u001b[0m\u001b[1;33m.\u001b[0m\u001b[0mempirical_distribution\u001b[0m \u001b[1;32mimport\u001b[0m \u001b[0mECDF\u001b[0m\u001b[1;33m\u001b[0m\u001b[0m\n\u001b[0;32m      8\u001b[0m \u001b[1;33m\u001b[0m\u001b[0m\n",
      "\u001b[1;31mValueError\u001b[0m: Attempted relative import in non-package"
     ]
    }
   ],
   "source": [
    "from __future__ import division\n",
    "from numpy.random import exponential, normal, chisquare, uniform\n",
    "import time\n",
    "from numpy import ceil, log2, linspace, searchsorted\n",
    "import matplotlib.pyplot as plt\n",
    "from src.san_thresholds import sanitize\n",
    "from statsmodels.distributions.empirical_distribution import ECDF\n",
    "\n",
    "\n",
    "def plot_cdf(data_set):\n",
    "    cf = ECDF(data_set)\n",
    "    xs = linspace(0, max(data_set), 100)\n",
    "    ys = [cf(j) for j in xs]\n",
    "    plt.plot(xs, ys)\n",
    "\n",
    "\n",
    "def cdf_comp(data1, data2, alpha):\n",
    "    \"\"\"\n",
    "    :param alpha:\n",
    "    :param data1:\n",
    "    :param data2:\n",
    "    :return: percentage of of the cdf's which differ in more than alpha\n",
    "    \"\"\"\n",
    "    m = int(ceil(max(max(data1), max(data2))))\n",
    "    f1 = ECDF(data1)\n",
    "    f2 = ECDF(data2)\n",
    "    return 1-sum(1 for c in xrange(m) if abs(f1(c) - f2(c)) <= alpha)/m"
   ]
  },
  {
   "cell_type": "code",
   "execution_count": null,
   "metadata": {
    "collapsed": true
   },
   "outputs": [],
   "source": []
  }
 ],
 "metadata": {
  "kernelspec": {
   "display_name": "Python 2",
   "language": "python",
   "name": "python2"
  },
  "language_info": {
   "codemirror_mode": {
    "name": "ipython",
    "version": 2
   },
   "file_extension": ".py",
   "mimetype": "text/x-python",
   "name": "python",
   "nbconvert_exporter": "python",
   "pygments_lexer": "ipython2",
   "version": "2.7.6"
  }
 },
 "nbformat": 4,
 "nbformat_minor": 0
}
