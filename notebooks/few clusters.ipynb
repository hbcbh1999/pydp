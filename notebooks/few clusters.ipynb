{
 "cells": [
  {
   "cell_type": "code",
   "execution_count": 1,
   "metadata": {
    "collapsed": false
   },
   "outputs": [
    {
     "name": "stdout",
     "output_type": "stream",
     "text": [
      "/home/meni/Documents/PyCharm/pydp/src\n"
     ]
    }
   ],
   "source": [
    "cd ../src"
   ]
  },
  {
   "cell_type": "code",
   "execution_count": 4,
   "metadata": {
    "collapsed": false
   },
   "outputs": [],
   "source": [
    "from __future__ import division\n",
    "import matplotlib.pyplot as plt\n",
    "import cluster as cluster\n",
    "import time"
   ]
  },
  {
   "cell_type": "code",
   "execution_count": 6,
   "metadata": {
    "collapsed": false
   },
   "outputs": [
    {
     "name": "stdout",
     "output_type": "stream",
     "text": [
      "/home/meni/Documents/PyCharm/pydp/tests\n"
     ]
    }
   ],
   "source": [
    "cd ../tests"
   ]
  },
  {
   "cell_type": "code",
   "execution_count": 8,
   "metadata": {
    "collapsed": true
   },
   "outputs": [],
   "source": [
    "from __non_private_cluster__ import *\n",
    "%matplotlib inline"
   ]
  },
  {
   "cell_type": "code",
   "execution_count": 32,
   "metadata": {
    "collapsed": true
   },
   "outputs": [],
   "source": [
    "cluster_size, desired_amount_of_points = 1000, 600\n",
    "dimension, domain = 2, (0, 30)\n",
    "approximation, failure, eps, delta, promise = 0.1, 0.1, 0.5, 2**-10, 200"
   ]
  },
  {
   "cell_type": "markdown",
   "metadata": {},
   "source": [
    "Three clusters far far away"
   ]
  },
  {
   "cell_type": "code",
   "execution_count": 33,
   "metadata": {
    "collapsed": false
   },
   "outputs": [],
   "source": [
    "means = [[10000, 100000], [4, 30], [100000, 500]]\n",
    "covs = [np.eye(2)*5, np.eye(2)*20, np.eye(2)*100]\n",
    "clusters = [np.random.multivariate_normal(m, v, cluster_size) for m, v in zip(means, covs)]\n",
    "data = np.concatenate(([v for v in clusters]))"
   ]
  },
  {
   "cell_type": "code",
   "execution_count": 35,
   "metadata": {
    "collapsed": false
   },
   "outputs": [
    {
     "name": "stdout",
     "output_type": "stream",
     "text": [
      "Test-radius is 2\n",
      "Run-time of non-private cluster finding: 253.12 seconds\n"
     ]
    }
   ],
   "source": [
    "start_time = time.time()\n",
    "test_radius, test_center = find_cluster(data, desired_amount_of_points)\n",
    "print \"Test-radius is %d\" % test_radius\n",
    "middle_time = time.time()\n",
    "print \"Run-time of non-private cluster finding: %.2f seconds\" % (middle_time - start_time)"
   ]
  },
  {
   "cell_type": "code",
   "execution_count": 37,
   "metadata": {
    "collapsed": false
   },
   "outputs": [
    {
     "name": "stdout",
     "output_type": "stream",
     "text": [
      "Good-radius is 26\n",
      "Good-center is [ -8.97284616  41.90642648]\n",
      "Run-time of private cluster finding: 12.31 seconds\n",
      "Amount of data points in the cluster 964\n"
     ]
    }
   ],
   "source": [
    "middle_time = time.time()\n",
    "radius, center = cluster.find(data, dimension, domain, desired_amount_of_points,\n",
    "                              approximation, failure, eps, delta)\n",
    "end_time = time.time()\n",
    "print \"Good-radius is %d\" % radius\n",
    "print \"Good-center is %s\" % (str(center))\n",
    "print \"Run-time of private cluster finding: %.2f seconds\" % (end_time - middle_time)\n",
    "print \"Amount of data points in the cluster %d\" % (sum(1 for p in data if norm(p-center) <= radius))"
   ]
  },
  {
   "cell_type": "code",
   "execution_count": 38,
   "metadata": {
    "collapsed": false
   },
   "outputs": [
    {
     "name": "stdout",
     "output_type": "stream",
     "text": [
      "test cluster marked in green\n",
      "private cluster marked in red\n"
     ]
    },
    {
     "data": {
      "image/png": "[encoded data removed]",
      "text/plain": [
       "<matplotlib.figure.Figure at 0x7f9568aaad50>"
      ]
     },
     "metadata": {},
     "output_type": "display_data"
    }
   ],
   "source": [
    "fig = plt.figure()\n",
    "ax = fig.add_subplot(111, aspect='equal')\n",
    "ax.scatter(*zip(*data))\n",
    "ax.annotate('center', xy=tuple(center), xytext=tuple(np.array(center)+100),\n",
    "            arrowprops=dict(facecolor='black', shrink=0.05),\n",
    "            )\n",
    "phis = np.arange(0, 6.283, 0.01)\n",
    "ax.plot(*circle(test_radius, phis, test_center), c='g', ls='-')\n",
    "ax.plot(*circle(radius, phis, center), c='r', ls='-')\n",
    "print \"test cluster marked in green\"\n",
    "print \"private cluster marked in red\""
   ]
  },
  {
   "cell_type": "markdown",
   "metadata": {},
   "source": [
    "Three clusters less far away"
   ]
  },
  {
   "cell_type": "code",
   "execution_count": 39,
   "metadata": {
    "collapsed": true
   },
   "outputs": [],
   "source": [
    "means = [[500, 300], [4, 30], [300, 500]]\n",
    "covs = [np.eye(2)*5, np.eye(2)*20, np.eye(2)*100]\n",
    "clusters = [np.random.multivariate_normal(m, v, cluster_size) for m, v in zip(means, covs)]\n",
    "data = np.concatenate(([v for v in clusters]))"
   ]
  },
  {
   "cell_type": "code",
   "execution_count": 40,
   "metadata": {
    "collapsed": false
   },
   "outputs": [
    {
     "name": "stdout",
     "output_type": "stream",
     "text": [
      "Test-radius is 3\n",
      "Run-time of non-private cluster finding: 399.07 seconds\n"
     ]
    }
   ],
   "source": [
    "start_time = time.time()\n",
    "test_radius, test_center = find_cluster(data, desired_amount_of_points)\n",
    "print \"Test-radius is %d\" % test_radius\n",
    "middle_time = time.time()\n",
    "print \"Run-time of non-private cluster finding: %.2f seconds\" % (middle_time - start_time)"
   ]
  },
  {
   "cell_type": "code",
   "execution_count": 43,
   "metadata": {
    "collapsed": false
   },
   "outputs": [
    {
     "name": "stdout",
     "output_type": "stream",
     "text": [
      "Good-radius is 19\n",
      "Good-center is [ 194.25637603  214.92063811]\n",
      "Run-time of private cluster finding: 21.69 seconds\n",
      "Amount of data points in the cluster 0\n"
     ]
    }
   ],
   "source": [
    "middle_time = time.time()\n",
    "radius, center = cluster.find(data, dimension, domain, desired_amount_of_points,\n",
    "                              approximation, failure, eps, delta)\n",
    "end_time = time.time()\n",
    "print \"Good-radius is %d\" % radius\n",
    "print \"Good-center is %s\" % (str(center))\n",
    "print \"Run-time of private cluster finding: %.2f seconds\" % (end_time - middle_time)\n",
    "print \"Amount of data points in the cluster %d\" % (sum(1 for p in data if norm(p-center) <= radius))"
   ]
  },
  {
   "cell_type": "code",
   "execution_count": 45,
   "metadata": {
    "collapsed": false
   },
   "outputs": [
    {
     "name": "stdout",
     "output_type": "stream",
     "text": [
      "test cluster marked in green\n",
      "private cluster marked in red\n"
     ]
    },
    {
     "data": {
      "image/png": "[encoded data removed]",
      "text/plain": [
       "<matplotlib.figure.Figure at 0x7f9568b867d0>"
      ]
     },
     "metadata": {},
     "output_type": "display_data"
    }
   ],
   "source": [
    "fig = plt.figure()\n",
    "ax = fig.add_subplot(111, aspect='equal')\n",
    "ax.scatter(*zip(*data))\n",
    "# ax.annotate('center', xy=tuple(center), xytext=tuple(np.array(center)+100),\n",
    "#             arrowprops=dict(facecolor='black', shrink=0.05),\n",
    "#             )\n",
    "phis = np.arange(0, 6.283, 0.01)\n",
    "ax.plot(*circle(test_radius, phis, test_center), c='g', ls='-')\n",
    "ax.plot(*circle(radius, phis, center), c='r', ls='-')\n",
    "print \"test cluster marked in green\"\n",
    "print \"private cluster marked in red\""
   ]
  },
  {
   "cell_type": "code",
   "execution_count": null,
   "metadata": {
    "collapsed": true
   },
   "outputs": [],
   "source": []
  }
 ],
 "metadata": {
  "kernelspec": {
   "display_name": "Python 2",
   "language": "python",
   "name": "python2"
  },
  "language_info": {
   "codemirror_mode": {
    "name": "ipython",
    "version": 2
   },
   "file_extension": ".py",
   "mimetype": "text/x-python",
   "name": "python",
   "nbconvert_exporter": "python",
   "pygments_lexer": "ipython2",
   "version": "2.7.6"
  }
 },
 "nbformat": 4,
 "nbformat_minor": 0
}
