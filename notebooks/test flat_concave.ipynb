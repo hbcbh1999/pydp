{
 "metadata": {
  "name": ""
 },
 "nbformat": 3,
 "nbformat_minor": 0,
 "worksheets": [
  {
   "cells": [
    {
     "cell_type": "code",
     "collapsed": false,
     "input": [
      "import flat_concave\n",
      "import examples\n",
      "import numpy as np\n",
      "import bounds"
     ],
     "language": "python",
     "metadata": {},
     "outputs": [],
     "prompt_number": 7
    },
    {
     "cell_type": "code",
     "collapsed": false,
     "input": [
      "range_end = 2**20\n",
      "\n",
      "alpha = 0.2\n",
      "eps = 0.5\n",
      "delta = 1e-6\n",
      "beta = 0.1"
     ],
     "language": "python",
     "metadata": {},
     "outputs": [],
     "prompt_number": 8
    },
    {
     "cell_type": "code",
     "collapsed": false,
     "input": [
      "samples_size = int(bounds.step6_n2_bound(range_end, eps, alpha, beta))\n",
      "print \"range size: %d\" % range_end\n",
      "print \"sample size: %d\" % samples_size\n",
      "data_center = np.random.uniform(range_end/3, range_end/3*2)\n",
      "data = examples.get_random_data(samples_size, pivot=data_center)\n",
      "data = sorted(filter(lambda x: 0 <= x <= range_end, data))\n",
      "\n",
      "maximum_quality = examples.min_max_maximum_quality(data, (0, range_end))\n",
      "\n",
      "print \"the exact median is: %d\" % np.median(data)\n",
      "print \"the best quality of a domain element: %d\" % maximum_quality\n",
      "quality_result_lower_bound = maximum_quality*(1-alpha)\n",
      "print 'minimum \"allowed\" quality: %d' % quality_result_lower_bound"
     ],
     "language": "python",
     "metadata": {},
     "outputs": [
      {
       "output_type": "stream",
       "stream": "stdout",
       "text": [
        "range size: 1048576\n",
        "sample size: 1695\n",
        "the exact median is: 462196\n",
        "the best quality of a domain element: 847\n",
        "minimum \"allowed\" quality: 677\n"
       ]
      }
     ],
     "prompt_number": 9
    },
    {
     "cell_type": "code",
     "collapsed": false,
     "input": [
      "print \"testing flat_concave to find median\"\n",
      "\n",
      "try:\n",
      "    result = flat_concave.evaluate(data, range_end, examples.quality_minmax,maximum_quality, alpha, eps, delta,\n",
      "                                   examples.min_max_intervals_bounding, examples.min_max_maximum_quality)\n",
      "    result_quality = examples.quality_minmax(data, result)\n",
      "except ValueError:\n",
      "    print \"Adist returned 'Bottom'\"\n",
      "    result = -1\n",
      "    result_quality = -1\n",
      "\n",
      "print \"result from flat_concave: %d\" % result\n",
      "print \"and its quality: %d \\n\" % result_quality"
     ],
     "language": "python",
     "metadata": {},
     "outputs": [
      {
       "output_type": "stream",
       "stream": "stdout",
       "text": [
        "testing flat_concave to find median\n",
        "step 2\n",
        "step 4\n",
        "step 6\n",
        "good interval: 512"
       ]
      },
      {
       "output_type": "stream",
       "stream": "stdout",
       "text": [
        "\n",
        "step 7\n",
        "step 9\n",
        "step 10\n",
        "result from flat_concave: 462196"
       ]
      },
      {
       "output_type": "stream",
       "stream": "stdout",
       "text": [
        "\n",
        "and its quality: 846 \n",
        "\n"
       ]
      }
     ],
     "prompt_number": 10
    },
    {
     "cell_type": "code",
     "collapsed": false,
     "input": [
      "# run again this only for run-time test\n",
      "%time flat_concave.evaluate(data, range_end, examples.quality_minmax,maximum_quality, alpha, eps, delta, examples.min_max_intervals_bounding, examples.min_max_maximum_quality)"
     ],
     "language": "python",
     "metadata": {},
     "outputs": [
      {
       "output_type": "stream",
       "stream": "stdout",
       "text": [
        "step 2\n",
        "step 4\n",
        "step 6\n",
        "good interval: 512"
       ]
      },
      {
       "output_type": "stream",
       "stream": "stdout",
       "text": [
        "\n",
        "step 7\n",
        "step 9\n",
        "step 10\n",
        "CPU times: user 56.4 s, sys: 56 ms, total: 56.5 s"
       ]
      },
      {
       "output_type": "stream",
       "stream": "stdout",
       "text": [
        "\n",
        "Wall time: 56.3 s\n"
       ]
      },
      {
       "metadata": {},
       "output_type": "pyout",
       "prompt_number": 11,
       "text": [
        "462201"
       ]
      }
     ],
     "prompt_number": 11
    }
   ],
   "metadata": {}
  }
 ]
}