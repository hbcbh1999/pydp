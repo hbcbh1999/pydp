{
 "cells": [
  {
   "cell_type": "code",
   "execution_count": null,
   "metadata": {},
   "outputs": [],
   "source": [
    "import flat_concave\n",
    "import examples\n",
    "import numpy as np\n",
    "import bounds"
   ]
  },
  {
   "cell_type": "code",
   "execution_count": null,
   "metadata": {},
   "outputs": [],
   "source": [
    "def check(t,alpha,eps,delta, beta):\n",
    "    range_end = 2**t\n",
    "    samples_size = int(bounds.step6_n2_bound(range_end, eps, alpha, beta))\n",
    "    # print \"range size: %d\" % range_end\n",
    "    # print \"sample size: %d\" % samples_size\n",
    "    data_center = np.random.uniform(range_end/3, range_end/3*2)\n",
    "    data = examples.get_random_data(samples_size, pivot=data_center)\n",
    "    data = sorted(filter(lambda x: 0 <= x <= range_end, data))\n",
    "    maximum_quality = examples.min_max_maximum_quality(data, (0, range_end))\n",
    "    # print \"the exact median is: %d\" % np.median(data)\n",
    "    # print \"the best quality of a domain element: %d\" % maximum_quality\n",
    "    quality_result_lower_bound = maximum_quality*(1-alpha)\n",
    "    # print 'minimum \"allowed\" quality: %d' % quality_result_lower_bound\n",
    "    try:\n",
    "        result = flat_concave.evaluate(data, range_end, examples.quality_minmax,maximum_quality, alpha, eps, delta, examples.min_max_intervals_bounding, examples.min_max_maximum_quality)\n",
    "        result_quality = examples.quality_minmax(data, result)\n",
    "    except:\n",
    "        result = -1\n",
    "        result_quality = -1\n",
    "    # print \"result from flat_concave: %d\" % result    \n",
    "    # print \"and its quality: %d\" % result_quality\n",
    "    return (result_quality != -1, result_quality >= quality_result_lower_bound)"
   ]
  },
  {
   "cell_type": "code",
   "execution_count": null,
   "metadata": {},
   "outputs": [],
   "source": [
    "iter = 30\n",
    "checks = []\n",
    "for i in xrange(iter):\n",
    "    checks.append(check(20, 0.2, 0.5, 1e-6, 0.01))"
   ]
  },
  {
   "cell_type": "code",
   "execution_count": null,
   "metadata": {},
   "outputs": [],
   "source": [
    "didnt_fail = sum(i[0] for i in checks)\n",
    "goog_quality = sum(i[1] for i in checks)\n",
    "print \"proportion of times Adist returned a value: %.2f\" % (didnt_fail/float(iter))\n",
    "print \"proportion of times we got good quality: %.2f\" % (didnt_fail/float(iter))"
   ]
  }
 ],
 "metadata": {
  "name": ""
 },
 "nbformat": 4,
 "nbformat_minor": 0
}